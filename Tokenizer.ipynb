{
 "cells": [
  {
   "cell_type": "markdown",
   "id": "68985552-f12e-4602-8368-e52ed5d3e1de",
   "metadata": {},
   "source": [
    "# GPT 2 - tokenization"
   ]
  },
  {
   "cell_type": "markdown",
   "id": "4d33f889-931e-4135-a757-93a16a6f83ac",
   "metadata": {},
   "source": [
    "### But why cant we just use UTF-8 encoding?\n",
    "These are byte strings encoding at a character level. This will result to inefficiency and larger sequence length with lower vocabulary. "
   ]
  },
  {
   "cell_type": "markdown",
   "id": "98e605c0-46e6-47a5-935b-e6aa6ac3b0ae",
   "metadata": {},
   "source": [
    "### Byte-Pair encoding\n",
    "consequtive bytes are paired up to decrease string lenght but increase vocab"
   ]
  },
  {
   "cell_type": "code",
   "execution_count": 18,
   "id": "d74d0161-5d97-49ca-bffb-4a90496d482b",
   "metadata": {},
   "outputs": [
    {
     "data": {
      "text/plain": [
       "bytes"
      ]
     },
     "execution_count": 18,
     "metadata": {},
     "output_type": "execute_result"
    }
   ],
   "source": [
    "type('adsds'.encode('utf-8'))"
   ]
  },
  {
   "cell_type": "code",
   "execution_count": null,
   "id": "0dfe5a9f-9bc1-4b39-bd5f-366159eaa2dd",
   "metadata": {},
   "outputs": [],
   "source": []
  }
 ],
 "metadata": {
  "kernelspec": {
   "display_name": "Python 3 (ipykernel)",
   "language": "python",
   "name": "python3"
  },
  "language_info": {
   "codemirror_mode": {
    "name": "ipython",
    "version": 3
   },
   "file_extension": ".py",
   "mimetype": "text/x-python",
   "name": "python",
   "nbconvert_exporter": "python",
   "pygments_lexer": "ipython3",
   "version": "3.10.12"
  }
 },
 "nbformat": 4,
 "nbformat_minor": 5
}
